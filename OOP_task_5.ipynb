{
  "nbformat": 4,
  "nbformat_minor": 0,
  "metadata": {
    "colab": {
      "name": "OOP_task-5.ipynb",
      "provenance": [],
      "collapsed_sections": []
    },
    "kernelspec": {
      "name": "python3",
      "display_name": "Python 3"
    },
    "language_info": {
      "name": "python"
    }
  },
  "cells": [
    {
      "cell_type": "markdown",
      "metadata": {
        "id": "_DY0gRsDAqea"
      },
      "source": [
        "# Name: Hemang Ranga\n",
        "# Roll no: 20BCS057\n",
        "# OOP Task-5"
      ]
    },
    {
      "cell_type": "markdown",
      "metadata": {
        "id": "wVD7mFVdA0zw"
      },
      "source": [
        "##1"
      ]
    },
    {
      "cell_type": "code",
      "metadata": {
        "colab": {
          "base_uri": "https://localhost:8080/",
          "height": 0
        },
        "id": "-JP8qx7IAy-5",
        "outputId": "fe0378d2-5304-4d9b-975c-f3468dac425b"
      },
      "source": [
        "import numpy as np\n",
        "\n",
        "class Shape:\n",
        "  def area(self):\n",
        "    pass\n",
        "\n",
        "#Circle\n",
        "class Circle(Shape):\n",
        "  def __init__ (self, radius):\n",
        "    super().__init__()\n",
        "    self.radius = radius\n",
        "\n",
        "  def area(self) :\n",
        "    return round(np.pi * (self.radius ** 2), 2)\n",
        "    pass\n",
        "\n",
        "#Square\n",
        "class Square(Shape):\n",
        "  def __init__ (self, side):\n",
        "    super().__init__()\n",
        "    self.side = side\n",
        "\n",
        "  def area(self) :\n",
        "    return (self.side)**2\n",
        "    pass\n",
        "\n",
        "#Rectangle\n",
        "class Rectangle(Shape):\n",
        "  def __init__ (self, length, breadth):\n",
        "    super().__init__()\n",
        "    self.length = length\n",
        "    self.breadth = breadth\n",
        "\n",
        "  def area(self) :\n",
        "    return self.length * self.breadth\n",
        "    pass\n",
        "\n",
        "c = Circle(7)\n",
        "print(\"Area of circle :\", format(c.area(), \"0.2f\"))\n",
        "\n",
        "s = Square (15) \n",
        "print(\"Area of square :\", s.area())\n",
        "\n",
        "r = Rectangle (8, 10)\n",
        "print(\"Area of rectangle :\", r.area())"
      ],
      "execution_count": 3,
      "outputs": [
        {
          "output_type": "stream",
          "name": "stdout",
          "text": [
            "Area of circle : 153.94\n",
            "Area of square : 225\n",
            "Area of rectangle : 80\n"
          ]
        }
      ]
    },
    {
      "cell_type": "markdown",
      "metadata": {
        "id": "4myzehfeGTKx"
      },
      "source": [
        "##2"
      ]
    },
    {
      "cell_type": "code",
      "metadata": {
        "id": "w6LnvjXuGUXk"
      },
      "source": [
        "from abc import ABC, abstractmethod\n",
        "\n",
        "class travel:\n",
        "    def __init__(self ,passengers ,dist ,mode):\n",
        "        \n",
        "        self.__count = passengers\n",
        "        self.distance = dist\n",
        "        self.mode = mode\n",
        "    \n",
        "    def get_count(self):\n",
        "        return self.__count\n",
        "    \n",
        "    @abstractmethod\n",
        "    def total_cost(self):\n",
        "        pass\n",
        "\n",
        "\n",
        "class Bus(travel):\n",
        "    def __init__(self, passengers, dist, mode=\"Bus\"):\n",
        "        super().__init__(passengers, dist, mode)\n",
        "        self.cost = 100\n",
        "    \n",
        "    def total_cost(self):\n",
        "        return self.cost*self.get_count()\n",
        "    \n",
        "\n",
        "class Train(travel):\n",
        "    def __init__(self ,passengers ,dist ,mode=\"Train\"):\n",
        "        super().__init__(passengers, dist, mode)\n",
        "        self.cost = 60\n",
        "    \n",
        "    def total_cost(self):\n",
        "        return self.cost*self.get_count()"
      ],
      "execution_count": 2,
      "outputs": []
    },
    {
      "cell_type": "markdown",
      "metadata": {
        "id": "Mzd2uYtBHF3D"
      },
      "source": [
        "##3"
      ]
    },
    {
      "cell_type": "code",
      "metadata": {
        "colab": {
          "base_uri": "https://localhost:8080/",
          "height": 0
        },
        "id": "wzSbemhoHG-L",
        "outputId": "d7ca1ffc-b02e-408a-c413-3fb0e3c369e7"
      },
      "source": [
        "class Car:\n",
        "  def __init__(self,modelNo):\n",
        "    self.modelNo = modelNo\n",
        "  \n",
        "  @property\n",
        "  def show(self):\n",
        "    return self.modelNo\n",
        "  \n",
        "def swap(c1,c2):\n",
        "  c1.modelNo,c2.modelNo = c2.modelNo,c1.modelNo\n",
        "\n",
        "c1 = Car(7857)\n",
        "c2 = Car(5082)\n",
        "print(\"Before swapping\\n\" f\"Car1 : {c1.show}, Car2 : {c2.show}\")\n",
        "swap(c1,c2)\n",
        "print(\"After swapping\\n\" f\"Car1 : {c1.show}, Car2 : {c2.show}\")"
      ],
      "execution_count": 7,
      "outputs": [
        {
          "output_type": "stream",
          "name": "stdout",
          "text": [
            "Before swapping\n",
            "Car1 : 7857, Car2 : 5082\n",
            "After swapping\n",
            "Car1 : 5082, Car2 : 7857\n"
          ]
        }
      ]
    }
  ]
}